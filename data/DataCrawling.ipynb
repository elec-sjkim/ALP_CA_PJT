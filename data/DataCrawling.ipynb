{
 "cells": [
  {
   "cell_type": "code",
   "execution_count": 34,
   "id": "166dacb5",
   "metadata": {},
   "outputs": [
    {
     "name": "stdout",
     "output_type": "stream",
     "text": [
      "엑셀 파일로 저장되었습니다: visit_data_2023_2.xlsx\n"
     ]
    }
   ],
   "source": [
    "import requests\n",
    "import pandas as pd\n",
    "import xml.etree.ElementTree as ET\n",
    "\n",
    "# API 키와 Base URL 설정\n",
    "API_KEY = 'Bn8H91vftuTJ7J1pFWrRHH9oropGIL+4jnIgC2iDFKaPIKdqaNiGblQwKEDlJDi063nSXEHQhljXlurpysBgyw=='  # 자신의 API 키 입력\n",
    "BASE_URL = 'https://apis.data.go.kr/B551011/DataLabService'\n",
    "\n",
    "# 기초 지자체 방문자 수 데이터 조회 API 엔드포인트\n",
    "API_ENDPOINT = '/locgoRegnVisitrDDList'\n",
    "\n",
    "# 요청할 파라미터 설정\n",
    "params = {\n",
    "    'serviceKey': API_KEY,\n",
    "    'numOfRows': '100000',  # 한 페이지 결과 수\n",
    "    'pageNo': '2',        # 페이지 번호\n",
    "    'startYmd': '20230101',  # 시작일\n",
    "    'endYmd': '20231231',    # 종료일\n",
    "    'MobileOS': 'ETC',       # OS 구분\n",
    "    'MobileApp': 'AppName'   # 서비스명\n",
    "}\n",
    "\n",
    "# API 호출\n",
    "response = requests.get(BASE_URL + API_ENDPOINT, params=params)\n",
    "\n",
    "# 응답 상태 코드 확인\n",
    "if response.status_code == 200:\n",
    "    # XML 응답을 파싱\n",
    "    root = ET.fromstring(response.text)\n",
    "    \n",
    "    # XML에서 필요한 데이터 추출\n",
    "    items = []\n",
    "    for item in root.findall(\".//item\"):\n",
    "        signguCode = item.findtext(\"signguCode\")\n",
    "        signguNm = item.findtext(\"signguNm\")\n",
    "        daywkDivCd = item.findtext(\"daywkDivCd\")\n",
    "        daywkDivNm = item.findtext(\"daywkDivNm\")\n",
    "        touDivCd = item.findtext(\"touDivCd\")\n",
    "        touDivNm = item.findtext(\"touDivNm\")\n",
    "        touNum = item.findtext(\"touNum\")\n",
    "        baseYmd = item.findtext(\"baseYmd\")\n",
    "        \n",
    "        # 추출한 데이터를 딕셔너리로 저장\n",
    "        items.append({\n",
    "            'signguCode': signguCode,\n",
    "            'signguNm': signguNm,\n",
    "            'daywkDivCd': daywkDivCd,\n",
    "            'daywkDivNm': daywkDivNm,\n",
    "            'touDivCd': touDivCd,\n",
    "            'touDivNm': touDivNm,\n",
    "            'touNum': touNum,\n",
    "            'baseYmd': baseYmd\n",
    "        })\n",
    "    \n",
    "    # 데이터를 DataFrame으로 변환\n",
    "    df = pd.DataFrame(items)\n",
    "    \n",
    "    # 엑셀 파일로 저장\n",
    "    df.to_excel('visit_data_2023_2.xlsx', index=False)\n",
    "    print(\"엑셀 파일로 저장되었습니다: visit_data_2023_2.xlsx\")\n",
    "else:\n",
    "    print(f\"API 호출 오류: {response.status_code}\")\n",
    "    print(response.text)\n"
   ]
  },
  {
   "cell_type": "code",
   "execution_count": null,
   "id": "1fbec61a",
   "metadata": {},
   "outputs": [],
   "source": [
    "response.text"
   ]
  },
  {
   "cell_type": "code",
   "execution_count": null,
   "id": "f18719a0",
   "metadata": {},
   "outputs": [],
   "source": []
  },
  {
   "cell_type": "code",
   "execution_count": null,
   "id": "70adb71c",
   "metadata": {},
   "outputs": [],
   "source": []
  }
 ],
 "metadata": {
  "kernelspec": {
   "display_name": "Python 3 (ipykernel)",
   "language": "python",
   "name": "python3"
  },
  "language_info": {
   "codemirror_mode": {
    "name": "ipython",
    "version": 3
   },
   "file_extension": ".py",
   "mimetype": "text/x-python",
   "name": "python",
   "nbconvert_exporter": "python",
   "pygments_lexer": "ipython3",
   "version": "3.9.12"
  }
 },
 "nbformat": 4,
 "nbformat_minor": 5
}
